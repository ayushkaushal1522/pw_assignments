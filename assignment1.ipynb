{
  "nbformat": 4,
  "nbformat_minor": 0,
  "metadata": {
    "colab": {
      "provenance": []
    },
    "kernelspec": {
      "name": "python3",
      "display_name": "Python 3"
    },
    "language_info": {
      "name": "python"
    }
  },
  "cells": [
    {
      "cell_type": "code",
      "execution_count": 1,
      "metadata": {
        "id": "7odfMtPDhhSl"
      },
      "outputs": [],
      "source": [
        "#Ques1"
      ]
    },
    {
      "cell_type": "code",
      "source": [
        "a = \"rahul\"\n",
        "b = [1,2,3,4,5]\n",
        "c = 2.2563\n",
        "d = (1,2,3,4,5)\n"
      ],
      "metadata": {
        "id": "Qs8g1l2Gh6To"
      },
      "execution_count": 4,
      "outputs": []
    },
    {
      "cell_type": "code",
      "source": [
        "#Ques2"
      ],
      "metadata": {
        "id": "tsaYs_GZh9Xu"
      },
      "execution_count": 5,
      "outputs": []
    },
    {
      "cell_type": "code",
      "source": [
        "#(a) str\n",
        "#(b) str\n",
        "#(c) list\n",
        "#(d) int"
      ],
      "metadata": {
        "id": "NTiRF9K5iRJh"
      },
      "execution_count": 7,
      "outputs": []
    },
    {
      "cell_type": "code",
      "source": [
        "# Ques3"
      ],
      "metadata": {
        "id": "jSOJsgr4icJQ"
      },
      "execution_count": 8,
      "outputs": []
    },
    {
      "cell_type": "code",
      "source": [
        "# (i) it is a division operator used to get the quotient wen we divide the dividend with the divisor.\n",
        "# (ii) it is a modulo operator which gives us the remainder when we divide the dividend with the divisor.\n",
        "# (iii) it is the floor division which gives us only the integer part of the quotient if the dividend is not completely divisible by the divisor.\n",
        "# (iv) it is the power operator which gives us a raise power b if we write a**b ."
      ],
      "metadata": {
        "id": "FgTuWKlSiugT"
      },
      "execution_count": 9,
      "outputs": []
    },
    {
      "cell_type": "code",
      "source": [
        "# Ques4"
      ],
      "metadata": {
        "id": "-VNdiPVXjldf"
      },
      "execution_count": 10,
      "outputs": []
    },
    {
      "cell_type": "code",
      "source": [
        "lt = [1,\"Rahul\",456,4.236,2+3j,True,False,8,9,10]\n",
        "for i in lt:\n",
        "  print(i,type(i))"
      ],
      "metadata": {
        "colab": {
          "base_uri": "https://localhost:8080/"
        },
        "id": "eAnpy6VYjn6N",
        "outputId": "ae97a6cb-554a-4bb2-b978-9eba275e7372"
      },
      "execution_count": 11,
      "outputs": [
        {
          "output_type": "stream",
          "name": "stdout",
          "text": [
            "1 <class 'int'>\n",
            "Rahul <class 'str'>\n",
            "456 <class 'int'>\n",
            "4.236 <class 'float'>\n",
            "(2+3j) <class 'complex'>\n",
            "True <class 'bool'>\n",
            "False <class 'bool'>\n",
            "8 <class 'int'>\n",
            "9 <class 'int'>\n",
            "10 <class 'int'>\n"
          ]
        }
      ]
    },
    {
      "cell_type": "code",
      "source": [
        "# Ques5\n"
      ],
      "metadata": {
        "id": "rI2CjuRqj88i"
      },
      "execution_count": 12,
      "outputs": []
    },
    {
      "cell_type": "code",
      "source": [
        "a = int(input(\"Enter a number a\"))\n",
        "b = int(input(\"Enter a number b\"))\n",
        "if a%b==0:\n",
        "  q = a/b\n",
        "  print(f\"a is divisible by b and {q} times\")\n",
        "else:\n",
        "  print(\"a is not divisible by b\")"
      ],
      "metadata": {
        "colab": {
          "base_uri": "https://localhost:8080/"
        },
        "id": "ZVwgNXDEkHFT",
        "outputId": "61b106b1-a100-45bb-bfe5-dada5ba3976b"
      },
      "execution_count": 13,
      "outputs": [
        {
          "output_type": "stream",
          "name": "stdout",
          "text": [
            "Enter a number a10\n",
            "Enter a number b2\n",
            "a is divisible by b and 5.0 times\n"
          ]
        }
      ]
    },
    {
      "cell_type": "code",
      "source": [
        "# Ques6"
      ],
      "metadata": {
        "id": "CbNNULwDkniS"
      },
      "execution_count": 14,
      "outputs": []
    },
    {
      "cell_type": "code",
      "source": [
        "lt = [1,2,3,4,5,6,7,8,9,10,11,12,13,14,15,16,17,18,19,20,21,22,23,24,25]\n",
        "for i in lt:\n",
        "  if i%3==0:\n",
        "    print(\"divisible by 3\")\n",
        "  else:\n",
        "    print(\"Not divisible by 3\")"
      ],
      "metadata": {
        "colab": {
          "base_uri": "https://localhost:8080/"
        },
        "id": "Zid6ZyN1kzs4",
        "outputId": "bfbd4286-1c20-4017-8b21-0073a2586255"
      },
      "execution_count": 15,
      "outputs": [
        {
          "output_type": "stream",
          "name": "stdout",
          "text": [
            "Not divisible by 3\n",
            "Not divisible by 3\n",
            "divisible by 3\n",
            "Not divisible by 3\n",
            "Not divisible by 3\n",
            "divisible by 3\n",
            "Not divisible by 3\n",
            "Not divisible by 3\n",
            "divisible by 3\n",
            "Not divisible by 3\n",
            "Not divisible by 3\n",
            "divisible by 3\n",
            "Not divisible by 3\n",
            "Not divisible by 3\n",
            "divisible by 3\n",
            "Not divisible by 3\n",
            "Not divisible by 3\n",
            "divisible by 3\n",
            "Not divisible by 3\n",
            "Not divisible by 3\n",
            "divisible by 3\n",
            "Not divisible by 3\n",
            "Not divisible by 3\n"
          ]
        }
      ]
    },
    {
      "cell_type": "code",
      "source": [
        "# Ques7"
      ],
      "metadata": {
        "id": "9qEdnixKlGSa"
      },
      "execution_count": 16,
      "outputs": []
    },
    {
      "cell_type": "code",
      "source": [
        "# Mutable data types are those whose contents can be modified after creation, while immutable data types cannot be changed once they are created.\n",
        "# for example\n",
        "# list are mutable and tuple are immutable"
      ],
      "metadata": {
        "id": "66mjz-jRlbrK"
      },
      "execution_count": null,
      "outputs": []
    }
  ]
}